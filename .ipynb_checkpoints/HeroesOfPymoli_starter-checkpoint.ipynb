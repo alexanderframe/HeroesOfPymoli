{
 "cells": [
  {
   "cell_type": "markdown",
   "metadata": {},
   "source": [
    "### Heroes Of Pymoli Data Analysis\n",
    "* Of the 1163 active players, the vast majority are male (84%). There also exists, a smaller, but notable proportion of female players (14%).\n",
    "\n",
    "* Our peak age demographic falls between 20-24 (44.8%) with secondary groups falling between 15-19 (18.60%) and 25-29 (13.4%).  \n",
    "-----"
   ]
  },
  {
   "cell_type": "markdown",
   "metadata": {},
   "source": [
    "### Note\n",
    "* Instructions have been included for each segment. You do not have to follow them exactly, but they are included to help you think through the steps."
   ]
  },
  {
   "cell_type": "code",
   "execution_count": 1,
   "metadata": {},
   "outputs": [],
   "source": [
    "# Dependencies and Setup\n",
    "import pandas as pd\n",
    "\n",
    "# File to Load (Remember to Change These)\n",
    "file_to_load = \"Resources/purchase_data.csv\"\n",
    "\n",
    "# Read Purchasing File and store into Pandas data frame\n",
    "purchaseDataDF = pd.read_csv(file_to_load)"
   ]
  },
  {
   "cell_type": "code",
   "execution_count": 17,
   "metadata": {},
   "outputs": [],
   "source": [
    "# Define variables to use in report\n",
    "\n",
    "totalPlayers = 0\n",
    "\n",
    "# Purchasing Analysis (Total)\n",
    "numUniqueItems = 0\n",
    "totalAvgPrice = 0\n",
    "totalPurchases = 0\n",
    "totalRevenue = 0\n",
    "\n",
    "# Gender Demographics\n",
    "numMales = 0\n",
    "percentMales = 0\n",
    "numFemales = 0\n",
    "percentFemales = 0\n",
    "numOther = 0\n",
    "percentOther = 0\n",
    "\n",
    "# Purchasing Analysis (Gender)\n",
    "malePurchases = 0\n",
    "maleAvgPurchaseTotal = 0\n",
    "maleAvgPrice = 0\n",
    "maleTotalPurchaseValue = 0\n",
    "\n",
    "femalePurchases = 0\n",
    "femaleAvgPurchaseTotal = 0\n",
    "femaleAvgPrice = 0\n",
    "femaleTotalPurchaseValue = 0\n",
    "\n",
    "otherPurchases = 0\n",
    "otherAvgPurchaseTotal = 0\n",
    "otherAvgPrice = 0\n",
    "otherTotalPurchaseValue = 0\n",
    "\n",
    "# Age Demographics\n",
    "ageBins = []\n"
   ]
  },
  {
   "cell_type": "code",
   "execution_count": 2,
   "metadata": {},
   "outputs": [
    {
     "data": {
      "text/html": [
       "<div>\n",
       "<style scoped>\n",
       "    .dataframe tbody tr th:only-of-type {\n",
       "        vertical-align: middle;\n",
       "    }\n",
       "\n",
       "    .dataframe tbody tr th {\n",
       "        vertical-align: top;\n",
       "    }\n",
       "\n",
       "    .dataframe thead th {\n",
       "        text-align: right;\n",
       "    }\n",
       "</style>\n",
       "<table border=\"1\" class=\"dataframe\">\n",
       "  <thead>\n",
       "    <tr style=\"text-align: right;\">\n",
       "      <th></th>\n",
       "      <th>Purchase ID</th>\n",
       "      <th>SN</th>\n",
       "      <th>Age</th>\n",
       "      <th>Gender</th>\n",
       "      <th>Item ID</th>\n",
       "      <th>Item Name</th>\n",
       "      <th>Price</th>\n",
       "    </tr>\n",
       "  </thead>\n",
       "  <tbody>\n",
       "    <tr>\n",
       "      <th>0</th>\n",
       "      <td>0</td>\n",
       "      <td>Lisim78</td>\n",
       "      <td>20</td>\n",
       "      <td>Male</td>\n",
       "      <td>108</td>\n",
       "      <td>Extraction, Quickblade Of Trembling Hands</td>\n",
       "      <td>3.53</td>\n",
       "    </tr>\n",
       "    <tr>\n",
       "      <th>1</th>\n",
       "      <td>1</td>\n",
       "      <td>Lisovynya38</td>\n",
       "      <td>40</td>\n",
       "      <td>Male</td>\n",
       "      <td>143</td>\n",
       "      <td>Frenzied Scimitar</td>\n",
       "      <td>1.56</td>\n",
       "    </tr>\n",
       "    <tr>\n",
       "      <th>2</th>\n",
       "      <td>2</td>\n",
       "      <td>Ithergue48</td>\n",
       "      <td>24</td>\n",
       "      <td>Male</td>\n",
       "      <td>92</td>\n",
       "      <td>Final Critic</td>\n",
       "      <td>4.88</td>\n",
       "    </tr>\n",
       "    <tr>\n",
       "      <th>3</th>\n",
       "      <td>3</td>\n",
       "      <td>Chamassasya86</td>\n",
       "      <td>24</td>\n",
       "      <td>Male</td>\n",
       "      <td>100</td>\n",
       "      <td>Blindscythe</td>\n",
       "      <td>3.27</td>\n",
       "    </tr>\n",
       "    <tr>\n",
       "      <th>4</th>\n",
       "      <td>4</td>\n",
       "      <td>Iskosia90</td>\n",
       "      <td>23</td>\n",
       "      <td>Male</td>\n",
       "      <td>131</td>\n",
       "      <td>Fury</td>\n",
       "      <td>1.44</td>\n",
       "    </tr>\n",
       "  </tbody>\n",
       "</table>\n",
       "</div>"
      ],
      "text/plain": [
       "   Purchase ID             SN  Age Gender  Item ID  \\\n",
       "0            0        Lisim78   20   Male      108   \n",
       "1            1    Lisovynya38   40   Male      143   \n",
       "2            2     Ithergue48   24   Male       92   \n",
       "3            3  Chamassasya86   24   Male      100   \n",
       "4            4      Iskosia90   23   Male      131   \n",
       "\n",
       "                                   Item Name  Price  \n",
       "0  Extraction, Quickblade Of Trembling Hands   3.53  \n",
       "1                          Frenzied Scimitar   1.56  \n",
       "2                               Final Critic   4.88  \n",
       "3                                Blindscythe   3.27  \n",
       "4                                       Fury   1.44  "
      ]
     },
     "execution_count": 2,
     "metadata": {},
     "output_type": "execute_result"
    }
   ],
   "source": [
    "purchaseDataDF.head()\n",
    "\n",
    "# purchaseDataDF.count()\n",
    "\n",
    "# purchaseDataDF.dtypes"
   ]
  },
  {
   "cell_type": "code",
   "execution_count": 3,
   "metadata": {},
   "outputs": [
    {
     "data": {
      "text/html": [
       "<div>\n",
       "<style scoped>\n",
       "    .dataframe tbody tr th:only-of-type {\n",
       "        vertical-align: middle;\n",
       "    }\n",
       "\n",
       "    .dataframe tbody tr th {\n",
       "        vertical-align: top;\n",
       "    }\n",
       "\n",
       "    .dataframe thead th {\n",
       "        text-align: right;\n",
       "    }\n",
       "</style>\n",
       "<table border=\"1\" class=\"dataframe\">\n",
       "  <thead>\n",
       "    <tr style=\"text-align: right;\">\n",
       "      <th></th>\n",
       "      <th>Purchase ID</th>\n",
       "      <th>Age</th>\n",
       "      <th>Item ID</th>\n",
       "      <th>Price</th>\n",
       "    </tr>\n",
       "  </thead>\n",
       "  <tbody>\n",
       "    <tr>\n",
       "      <th>count</th>\n",
       "      <td>780.000000</td>\n",
       "      <td>780.000000</td>\n",
       "      <td>780.000000</td>\n",
       "      <td>780.000000</td>\n",
       "    </tr>\n",
       "    <tr>\n",
       "      <th>mean</th>\n",
       "      <td>389.500000</td>\n",
       "      <td>22.714103</td>\n",
       "      <td>92.114103</td>\n",
       "      <td>3.050987</td>\n",
       "    </tr>\n",
       "    <tr>\n",
       "      <th>std</th>\n",
       "      <td>225.310896</td>\n",
       "      <td>6.659444</td>\n",
       "      <td>52.775943</td>\n",
       "      <td>1.169549</td>\n",
       "    </tr>\n",
       "    <tr>\n",
       "      <th>min</th>\n",
       "      <td>0.000000</td>\n",
       "      <td>7.000000</td>\n",
       "      <td>0.000000</td>\n",
       "      <td>1.000000</td>\n",
       "    </tr>\n",
       "    <tr>\n",
       "      <th>25%</th>\n",
       "      <td>194.750000</td>\n",
       "      <td>20.000000</td>\n",
       "      <td>48.000000</td>\n",
       "      <td>1.980000</td>\n",
       "    </tr>\n",
       "    <tr>\n",
       "      <th>50%</th>\n",
       "      <td>389.500000</td>\n",
       "      <td>22.000000</td>\n",
       "      <td>93.000000</td>\n",
       "      <td>3.150000</td>\n",
       "    </tr>\n",
       "    <tr>\n",
       "      <th>75%</th>\n",
       "      <td>584.250000</td>\n",
       "      <td>25.000000</td>\n",
       "      <td>139.000000</td>\n",
       "      <td>4.080000</td>\n",
       "    </tr>\n",
       "    <tr>\n",
       "      <th>max</th>\n",
       "      <td>779.000000</td>\n",
       "      <td>45.000000</td>\n",
       "      <td>183.000000</td>\n",
       "      <td>4.990000</td>\n",
       "    </tr>\n",
       "  </tbody>\n",
       "</table>\n",
       "</div>"
      ],
      "text/plain": [
       "       Purchase ID         Age     Item ID       Price\n",
       "count   780.000000  780.000000  780.000000  780.000000\n",
       "mean    389.500000   22.714103   92.114103    3.050987\n",
       "std     225.310896    6.659444   52.775943    1.169549\n",
       "min       0.000000    7.000000    0.000000    1.000000\n",
       "25%     194.750000   20.000000   48.000000    1.980000\n",
       "50%     389.500000   22.000000   93.000000    3.150000\n",
       "75%     584.250000   25.000000  139.000000    4.080000\n",
       "max     779.000000   45.000000  183.000000    4.990000"
      ]
     },
     "execution_count": 3,
     "metadata": {},
     "output_type": "execute_result"
    }
   ],
   "source": [
    "purchaseDataDF.describe()"
   ]
  },
  {
   "cell_type": "markdown",
   "metadata": {},
   "source": [
    "## Player Count"
   ]
  },
  {
   "cell_type": "markdown",
   "metadata": {},
   "source": [
    "* Display the total number of players\n"
   ]
  },
  {
   "cell_type": "code",
   "execution_count": 18,
   "metadata": {},
   "outputs": [
    {
     "data": {
      "text/plain": [
       "576"
      ]
     },
     "execution_count": 18,
     "metadata": {},
     "output_type": "execute_result"
    }
   ],
   "source": [
    "# Find total number of players\n",
    "totalPlayers = purchaseDataDF['SN'].nunique()\n",
    "totalPlayers"
   ]
  },
  {
   "cell_type": "code",
   "execution_count": 5,
   "metadata": {},
   "outputs": [
    {
     "data": {
      "text/plain": [
       "Purchase ID    780\n",
       "SN             576\n",
       "Age             39\n",
       "Gender           3\n",
       "Item ID        183\n",
       "Item Name      179\n",
       "Price          145\n",
       "dtype: int64"
      ]
     },
     "execution_count": 5,
     "metadata": {},
     "output_type": "execute_result"
    }
   ],
   "source": [
    "purchaseDataDF.nunique()"
   ]
  },
  {
   "cell_type": "markdown",
   "metadata": {},
   "source": [
    "## Purchasing Analysis (Total)"
   ]
  },
  {
   "cell_type": "markdown",
   "metadata": {},
   "source": [
    "* Run basic calculations to obtain number of unique items, average price, etc.\n",
    "\n",
    "\n",
    "* Create a summary data frame to hold the results\n",
    "\n",
    "\n",
    "* Optional: give the displayed data cleaner formatting\n",
    "\n",
    "\n",
    "* Display the summary data frame\n"
   ]
  },
  {
   "cell_type": "code",
   "execution_count": 19,
   "metadata": {
    "scrolled": true
   },
   "outputs": [
    {
     "data": {
      "text/html": [
       "<div>\n",
       "<style scoped>\n",
       "    .dataframe tbody tr th:only-of-type {\n",
       "        vertical-align: middle;\n",
       "    }\n",
       "\n",
       "    .dataframe tbody tr th {\n",
       "        vertical-align: top;\n",
       "    }\n",
       "\n",
       "    .dataframe thead th {\n",
       "        text-align: right;\n",
       "    }\n",
       "</style>\n",
       "<table border=\"1\" class=\"dataframe\">\n",
       "  <thead>\n",
       "    <tr style=\"text-align: right;\">\n",
       "      <th></th>\n",
       "      <th>Unique Items</th>\n",
       "      <th>Average Price</th>\n",
       "      <th>Total Purchases</th>\n",
       "      <th>totalRevenue</th>\n",
       "    </tr>\n",
       "  </thead>\n",
       "  <tbody>\n",
       "    <tr>\n",
       "      <th>0</th>\n",
       "      <td>179</td>\n",
       "      <td>3.050987</td>\n",
       "      <td>780</td>\n",
       "      <td>2379.77</td>\n",
       "    </tr>\n",
       "  </tbody>\n",
       "</table>\n",
       "</div>"
      ],
      "text/plain": [
       "   Unique Items  Average Price  Total Purchases  totalRevenue\n",
       "0           179       3.050987              780       2379.77"
      ]
     },
     "execution_count": 19,
     "metadata": {},
     "output_type": "execute_result"
    }
   ],
   "source": [
    "# Set values for column variables\n",
    "numUniqueItems = purchaseDataDF[\"Item Name\"].nunique()\n",
    "totalAvgPrice = purchaseDataDF['Price'].mean()\n",
    "totalPurchases = purchaseDataDF['Purchase ID'].count()\n",
    "totalRevenue = purchaseDataDF['Price'].sum()\n",
    "\n",
    "# Create Summary DataFrame\n",
    "purchasingAnalysisDF = pd.DataFrame({'Unique Items': [numUniqueItems],\n",
    "                                     'Average Price': [totalAvgPrice],\n",
    "                                     'Total Purchases': [totalPurchases],\n",
    "                                     'totalRevenue': [totalRevenue]\n",
    "                                    })\n",
    "\n",
    "purchasingAnalysisDF"
   ]
  },
  {
   "cell_type": "markdown",
   "metadata": {},
   "source": [
    "## Gender Demographics"
   ]
  },
  {
   "cell_type": "markdown",
   "metadata": {},
   "source": [
    "* Percentage and Count of Male Players\n",
    "\n",
    "\n",
    "* Percentage and Count of Female Players\n",
    "\n",
    "\n",
    "* Percentage and Count of Other / Non-Disclosed\n",
    "\n",
    "\n"
   ]
  },
  {
   "cell_type": "code",
   "execution_count": 20,
   "metadata": {},
   "outputs": [
    {
     "name": "stdout",
     "output_type": "stream",
     "text": [
      "484 84.03\n"
     ]
    },
    {
     "data": {
      "text/html": [
       "<div>\n",
       "<style scoped>\n",
       "    .dataframe tbody tr th:only-of-type {\n",
       "        vertical-align: middle;\n",
       "    }\n",
       "\n",
       "    .dataframe tbody tr th {\n",
       "        vertical-align: top;\n",
       "    }\n",
       "\n",
       "    .dataframe thead th {\n",
       "        text-align: right;\n",
       "    }\n",
       "</style>\n",
       "<table border=\"1\" class=\"dataframe\">\n",
       "  <thead>\n",
       "    <tr style=\"text-align: right;\">\n",
       "      <th></th>\n",
       "      <th>Users</th>\n",
       "      <th>Percent of Total Users</th>\n",
       "    </tr>\n",
       "  </thead>\n",
       "  <tbody>\n",
       "    <tr>\n",
       "      <th>Male</th>\n",
       "      <td>484</td>\n",
       "      <td>84.03</td>\n",
       "    </tr>\n",
       "    <tr>\n",
       "      <th>Female</th>\n",
       "      <td>81</td>\n",
       "      <td>14.06</td>\n",
       "    </tr>\n",
       "    <tr>\n",
       "      <th>Other / Non-Disclosed</th>\n",
       "      <td>11</td>\n",
       "      <td>1.91</td>\n",
       "    </tr>\n",
       "  </tbody>\n",
       "</table>\n",
       "</div>"
      ],
      "text/plain": [
       "                       Users  Percent of Total Users\n",
       "Male                     484                   84.03\n",
       "Female                    81                   14.06\n",
       "Other / Non-Disclosed     11                    1.91"
      ]
     },
     "execution_count": 20,
     "metadata": {},
     "output_type": "execute_result"
    }
   ],
   "source": [
    "# Find Male total users and percentage of total users\n",
    "condMale = purchaseDataDF['Gender'] == \"Male\"\n",
    "numMales = purchaseDataDF.loc[condMale, :]['SN'].nunique()\n",
    "percentMales = round((numMales / totalPlayers) * 100, 2)\n",
    "\n",
    "print(numMales, percentMales)\n",
    "\n",
    "# Repeat above for other genders\n",
    "condFemale = purchaseDataDF['Gender'] == \"Female\"\n",
    "numFemales = purchaseDataDF.loc[condFemale, :]['SN'].nunique()\n",
    "percentFemales = round((numFemales / totalPlayers) * 100, 2)\n",
    "\n",
    "condOther = purchaseDataDF['Gender'] == \"Other / Non-Disclosed\"\n",
    "numOther = purchaseDataDF.loc[condOther, :]['SN'].nunique()\n",
    "percentOther = round((numOther / totalPlayers) * 100, 2)\n",
    "\n",
    "# Create new DataFrame with Gender Demographics\n",
    "genderDF = pd.DataFrame({'Users': [numMales, numFemales, numOther],\n",
    "                         'Percent of Total Users': [percentMales, percentFemales, percentOther]\n",
    "                        },\n",
    "                        index=['Male', 'Female', 'Other / Non-Disclosed']\n",
    "                       )\n",
    "genderDF"
   ]
  },
  {
   "cell_type": "markdown",
   "metadata": {},
   "source": [
    "\n",
    "## Purchasing Analysis (Gender)"
   ]
  },
  {
   "cell_type": "markdown",
   "metadata": {},
   "source": [
    "* Run basic calculations to obtain purchase count, avg. purchase price, avg. purchase total per person etc. by gender\n",
    "\n",
    "\n",
    "\n",
    "\n",
    "* Create a summary data frame to hold the results\n",
    "\n",
    "\n",
    "* Optional: give the displayed data cleaner formatting\n",
    "\n",
    "\n",
    "* Display the summary data frame"
   ]
  },
  {
   "cell_type": "code",
   "execution_count": 23,
   "metadata": {},
   "outputs": [
    {
     "data": {
      "text/html": [
       "<div>\n",
       "<style scoped>\n",
       "    .dataframe tbody tr th:only-of-type {\n",
       "        vertical-align: middle;\n",
       "    }\n",
       "\n",
       "    .dataframe tbody tr th {\n",
       "        vertical-align: top;\n",
       "    }\n",
       "\n",
       "    .dataframe thead th {\n",
       "        text-align: right;\n",
       "    }\n",
       "</style>\n",
       "<table border=\"1\" class=\"dataframe\">\n",
       "  <thead>\n",
       "    <tr style=\"text-align: right;\">\n",
       "      <th></th>\n",
       "      <th>Purchase Count</th>\n",
       "      <th>Total Purchase Value</th>\n",
       "      <th>Average Purchase Price</th>\n",
       "      <th>Average Purchase Total per Person</th>\n",
       "    </tr>\n",
       "  </thead>\n",
       "  <tbody>\n",
       "    <tr>\n",
       "      <th>Male</th>\n",
       "      <td>652</td>\n",
       "      <td>1967.64</td>\n",
       "      <td>3.02</td>\n",
       "      <td>1.35</td>\n",
       "    </tr>\n",
       "    <tr>\n",
       "      <th>Female</th>\n",
       "      <td>113</td>\n",
       "      <td>361.94</td>\n",
       "      <td>3.20</td>\n",
       "      <td>1.40</td>\n",
       "    </tr>\n",
       "    <tr>\n",
       "      <th>Other / Non-Disclosed</th>\n",
       "      <td>15</td>\n",
       "      <td>50.19</td>\n",
       "      <td>3.35</td>\n",
       "      <td>1.36</td>\n",
       "    </tr>\n",
       "  </tbody>\n",
       "</table>\n",
       "</div>"
      ],
      "text/plain": [
       "                       Purchase Count  Total Purchase Value  \\\n",
       "Male                              652               1967.64   \n",
       "Female                            113                361.94   \n",
       "Other / Non-Disclosed              15                 50.19   \n",
       "\n",
       "                       Average Purchase Price  \\\n",
       "Male                                     3.02   \n",
       "Female                                   3.20   \n",
       "Other / Non-Disclosed                    3.35   \n",
       "\n",
       "                       Average Purchase Total per Person  \n",
       "Male                                                1.35  \n",
       "Female                                              1.40  \n",
       "Other / Non-Disclosed                               1.36  "
      ]
     },
     "execution_count": 23,
     "metadata": {},
     "output_type": "execute_result"
    }
   ],
   "source": [
    "# Create gender-specific DF\n",
    "maleDF = purchaseDataDF.loc[condMale, :]\n",
    "# Find gender-specific total purchases, total purchase value, average purchase price, and average purchase total per person\n",
    "malePurchases = maleDF['Purchase ID'].count()\n",
    "maleTotalPurchaseValue = maleDF['Price'].sum()    \n",
    "maleAvgPrice = round(maleTotalPurchaseValue / malePurchases, 2)\n",
    "maleAvgPurchaseTotal = round(malePurchases / numMales, 2)\n",
    "\n",
    "# Repeat above for other genders\n",
    "femaleDF = purchaseDataDF.loc[condFemale, :]\n",
    "femalePurchases = femaleDF['Purchase ID'].count()\n",
    "femaleTotalPurchaseValue = femaleDF['Price'].sum()    \n",
    "femaleAvgPrice = round(femaleTotalPurchaseValue / femalePurchases, 2)\n",
    "femaleAvgPurchaseTotal = round(femalePurchases / numFemales, 2)\n",
    "\n",
    "otherDF = purchaseDataDF.loc[condOther, :]\n",
    "otherPurchases = otherDF['Purchase ID'].count()\n",
    "otherTotalPurchaseValue = otherDF['Price'].sum()    \n",
    "otherAvgPrice = round(otherTotalPurchaseValue / otherPurchases, 2)\n",
    "otherAvgPurchaseTotal = round(otherPurchases / numOther, 2)\n",
    "\n",
    "\n",
    "# Create new DF with gender purchasing analysis\n",
    "genderAnalysisDF = pd.DataFrame({'Purchase Count': [malePurchases, femalePurchases, otherPurchases],\n",
    "                         'Total Purchase Value': [maleTotalPurchaseValue, femaleTotalPurchaseValue, otherTotalPurchaseValue],\n",
    "                         'Average Purchase Price': [maleAvgPrice, femaleAvgPrice, otherAvgPrice],\n",
    "                         'Average Purchase Total per Person': [maleAvgPurchaseTotal, femaleAvgPurchaseTotal, otherAvgPurchaseTotal]\n",
    "                        },\n",
    "                        index=['Male', 'Female', 'Other / Non-Disclosed']\n",
    "                       )\n",
    "\n",
    "\n",
    "genderAnalysisDF.head(10)"
   ]
  },
  {
   "cell_type": "markdown",
   "metadata": {},
   "source": [
    "## Age Demographics"
   ]
  },
  {
   "cell_type": "markdown",
   "metadata": {},
   "source": [
    "* Establish bins for ages\n",
    "\n",
    "\n",
    "* Categorize the existing players using the age bins. Hint: use pd.cut()\n",
    "\n",
    "\n",
    "* Calculate the numbers and percentages by age group\n",
    "\n",
    "\n",
    "* Create a summary data frame to hold the results\n",
    "\n",
    "\n",
    "* Optional: round the percentage column to two decimal points\n",
    "\n",
    "\n",
    "* Display Age Demographics Table\n"
   ]
  },
  {
   "cell_type": "code",
   "execution_count": 15,
   "metadata": {},
   "outputs": [],
   "source": [
    "# use describe function to help determine reasonable age bin cutoffs\n",
    "purchaseDataDF.describe()\n",
    "\n",
    "ageBins = [0, 10, 15, 20, 25, 35, 45]\n",
    "ageLabels = ['10 and Under', '11-15', '16-20', '21-25', '26-35', '36-45']\n",
    "             \n",
    "# Categorize users based on created age bins nad put into copied DF\n",
    "newPurchaseDF = purchaseDataDF.copy()             \n",
    "newPurchaseDF['Age Range'] = pd.cut(newPurchaseDF['Age'], ageBins, labels=ageLabels)"
   ]
  },
  {
   "cell_type": "code",
   "execution_count": 16,
   "metadata": {},
   "outputs": [
    {
     "data": {
      "text/html": [
       "<div>\n",
       "<style scoped>\n",
       "    .dataframe tbody tr th:only-of-type {\n",
       "        vertical-align: middle;\n",
       "    }\n",
       "\n",
       "    .dataframe tbody tr th {\n",
       "        vertical-align: top;\n",
       "    }\n",
       "\n",
       "    .dataframe thead th {\n",
       "        text-align: right;\n",
       "    }\n",
       "</style>\n",
       "<table border=\"1\" class=\"dataframe\">\n",
       "  <thead>\n",
       "    <tr style=\"text-align: right;\">\n",
       "      <th></th>\n",
       "      <th>Users</th>\n",
       "      <th>Percent of Total Users</th>\n",
       "    </tr>\n",
       "  </thead>\n",
       "  <tbody>\n",
       "    <tr>\n",
       "      <th>Aged 10 and Under</th>\n",
       "      <td>24</td>\n",
       "      <td>4.17</td>\n",
       "    </tr>\n",
       "    <tr>\n",
       "      <th>Aged 11-15</th>\n",
       "      <td>41</td>\n",
       "      <td>7.12</td>\n",
       "    </tr>\n",
       "    <tr>\n",
       "      <th>Aged 16-20</th>\n",
       "      <td>150</td>\n",
       "      <td>26.04</td>\n",
       "    </tr>\n",
       "    <tr>\n",
       "      <th>Aged 21-25</th>\n",
       "      <td>232</td>\n",
       "      <td>40.28</td>\n",
       "    </tr>\n",
       "    <tr>\n",
       "      <th>Aged 26-35</th>\n",
       "      <td>96</td>\n",
       "      <td>16.67</td>\n",
       "    </tr>\n",
       "    <tr>\n",
       "      <th>Aged 36-45</th>\n",
       "      <td>33</td>\n",
       "      <td>5.73</td>\n",
       "    </tr>\n",
       "  </tbody>\n",
       "</table>\n",
       "</div>"
      ],
      "text/plain": [
       "                   Users  Percent of Total Users\n",
       "Aged 10 and Under     24                    4.17\n",
       "Aged 11-15            41                    7.12\n",
       "Aged 16-20           150                   26.04\n",
       "Aged 21-25           232                   40.28\n",
       "Aged 26-35            96                   16.67\n",
       "Aged 36-45            33                    5.73"
      ]
     },
     "execution_count": 16,
     "metadata": {},
     "output_type": "execute_result"
    }
   ],
   "source": [
    "# Find age-specific total users and percentage of total users\n",
    "cond10 = newPurchaseDF['Age Range'] == '10 and Under'\n",
    "num10 = newPurchaseDF.loc[cond10, :]['SN'].nunique()\n",
    "percent10 = round((num10 / totalPlayers) * 100, 2)\n",
    "\n",
    "# Repeat above for each age range\n",
    "cond15 = newPurchaseDF['Age Range'] == '11-15'\n",
    "num15 = newPurchaseDF.loc[cond15, :]['SN'].nunique()\n",
    "percent15 = round((num15 / totalPlayers) * 100, 2)\n",
    "\n",
    "cond20 = newPurchaseDF['Age Range'] == '16-20'\n",
    "num20 = newPurchaseDF.loc[cond20, :]['SN'].nunique()\n",
    "percent20 = round((num20 / totalPlayers) * 100, 2)\n",
    "\n",
    "cond25 = newPurchaseDF['Age Range'] == '21-25'\n",
    "num25 = newPurchaseDF.loc[cond25, :]['SN'].nunique()\n",
    "percent25 = round((num25 / totalPlayers) * 100, 2)\n",
    "\n",
    "cond35 = newPurchaseDF['Age Range'] == '26-35'\n",
    "num35 = newPurchaseDF.loc[cond35, :]['SN'].nunique()\n",
    "percent35 = round((num35 / totalPlayers) * 100, 2)\n",
    "\n",
    "cond45 = newPurchaseDF['Age Range'] == '36-45'\n",
    "num45 = newPurchaseDF.loc[cond45, :]['SN'].nunique()\n",
    "percent45 = round((num45 / totalPlayers) * 100, 2)\n",
    "\n",
    "# Create new DataFrame with Age Demographics\n",
    "ageDF = pd.DataFrame({'Users': [num10, num15, num20, num25, num35, num45],\n",
    "                         'Percent of Total Users': [percent10, percent15, percent20, \n",
    "                                                    percent25, percent35, percent45]\n",
    "                        },\n",
    "                        index=['Aged 10 and Under', 'Aged 11-15', 'Aged 16-20', \n",
    "                               'Aged 21-25', 'Aged 26-35', 'Aged 36-45']\n",
    "                    )\n",
    "ageDF"
   ]
  },
  {
   "cell_type": "markdown",
   "metadata": {},
   "source": [
    "## Purchasing Analysis (Age)"
   ]
  },
  {
   "cell_type": "markdown",
   "metadata": {},
   "source": [
    "* Bin the purchase_data data frame by age\n",
    "\n",
    "\n",
    "* Run basic calculations to obtain purchase count, avg. purchase price, avg. purchase total per person etc. in the table below\n",
    "\n",
    "\n",
    "* Create a summary data frame to hold the results\n",
    "\n",
    "\n",
    "* Optional: give the displayed data cleaner formatting\n",
    "\n",
    "\n",
    "* Display the summary data frame"
   ]
  },
  {
   "cell_type": "code",
   "execution_count": null,
   "metadata": {},
   "outputs": [],
   "source": [
    "# Create function to pass age ranges through\n",
    "def ageAnalysis(DF, cond, Purchases, TotalPurchaseValue, AvgPrice, AvgPurchaseTotal, num):\n",
    "    # Create age range specific DF\n",
    "    DF = newPurchaseDF.loc[cond, :]\n",
    "    # Find age range specific total purchases, total purchase value, average purchase price, and average purchase total per person\n",
    "    Purchases = DF['Purchase ID'].count()\n",
    "    TotalPurchaseValue = DF['Price'].sum()\n",
    "    AvgPrice = round(TotalPurchaseValue / Purchases, 2)\n",
    "    AvgPurchaseTotal = round(Purchases / num, 2)\n",
    "    return print(Purchases, TotalPurchaseValue, AvgPrice, AvgPurchaseTotal)\n",
    "\n",
    "# Call ageAnalysis function for each age range\n",
    "ageAnalysis(under10DF, condUnder10, under10Purchases, under10TotalPurchaseValue, under10AvgPrice, under10AvgPurchaseTotal, numUnder10)\n",
    "ageAnalysis(under10DF, condUnder10, under10Purchases, under10TotalPurchaseValue, under10AvgPrice, under10AvgPurchaseTotal, numUnder10)\n",
    "ageAnalysis(under10DF, condUnder10, under10Purchases, under10TotalPurchaseValue, under10AvgPrice, under10AvgPurchaseTotal, numUnder10)\n",
    "ageAnalysis(under10DF, condUnder10, under10Purchases, under10TotalPurchaseValue, under10AvgPrice, under10AvgPurchaseTotal, numUnder10)\n",
    "ageAnalysis(under10DF, condUnder10, under10Purchases, under10TotalPurchaseValue, under10AvgPrice, under10AvgPurchaseTotal, numUnder10)\n",
    "ageAnalysis(under10DF, condUnder10, under10Purchases, under10TotalPurchaseValue, under10AvgPrice, under10AvgPurchaseTotal, numUnder10)"
   ]
  },
  {
   "cell_type": "markdown",
   "metadata": {},
   "source": [
    "## Top Spenders"
   ]
  },
  {
   "cell_type": "markdown",
   "metadata": {},
   "source": [
    "* Run basic calculations to obtain the results in the table below\n",
    "\n",
    "\n",
    "* Create a summary data frame to hold the results\n",
    "\n",
    "\n",
    "* Sort the total purchase value column in descending order\n",
    "\n",
    "\n",
    "* Optional: give the displayed data cleaner formatting\n",
    "\n",
    "\n",
    "* Display a preview of the summary data frame\n",
    "\n"
   ]
  },
  {
   "cell_type": "code",
   "execution_count": null,
   "metadata": {},
   "outputs": [],
   "source": []
  },
  {
   "cell_type": "markdown",
   "metadata": {},
   "source": [
    "## Most Popular Items"
   ]
  },
  {
   "cell_type": "markdown",
   "metadata": {},
   "source": [
    "* Retrieve the Item ID, Item Name, and Item Price columns\n",
    "\n",
    "\n",
    "* Group by Item ID and Item Name. Perform calculations to obtain purchase count, item price, and total purchase value\n",
    "\n",
    "\n",
    "* Create a summary data frame to hold the results\n",
    "\n",
    "\n",
    "* Sort the purchase count column in descending order\n",
    "\n",
    "\n",
    "* Optional: give the displayed data cleaner formatting\n",
    "\n",
    "\n",
    "* Display a preview of the summary data frame\n",
    "\n"
   ]
  },
  {
   "cell_type": "code",
   "execution_count": null,
   "metadata": {},
   "outputs": [],
   "source": []
  },
  {
   "cell_type": "markdown",
   "metadata": {},
   "source": [
    "## Most Profitable Items"
   ]
  },
  {
   "cell_type": "markdown",
   "metadata": {},
   "source": [
    "* Sort the above table by total purchase value in descending order\n",
    "\n",
    "\n",
    "* Optional: give the displayed data cleaner formatting\n",
    "\n",
    "\n",
    "* Display a preview of the data frame\n",
    "\n"
   ]
  },
  {
   "cell_type": "code",
   "execution_count": null,
   "metadata": {
    "scrolled": true
   },
   "outputs": [],
   "source": []
  }
 ],
 "metadata": {
  "anaconda-cloud": {},
  "kernel_info": {
   "name": "python3"
  },
  "kernelspec": {
   "display_name": "Python 3",
   "language": "python",
   "name": "python3"
  },
  "language_info": {
   "codemirror_mode": {
    "name": "ipython",
    "version": 3
   },
   "file_extension": ".py",
   "mimetype": "text/x-python",
   "name": "python",
   "nbconvert_exporter": "python",
   "pygments_lexer": "ipython3",
   "version": "3.7.3"
  },
  "latex_envs": {
   "LaTeX_envs_menu_present": true,
   "autoclose": false,
   "autocomplete": true,
   "bibliofile": "biblio.bib",
   "cite_by": "apalike",
   "current_citInitial": 1,
   "eqLabelWithNumbers": true,
   "eqNumInitial": 1,
   "hotkeys": {
    "equation": "Ctrl-E",
    "itemize": "Ctrl-I"
   },
   "labels_anchors": false,
   "latex_user_defs": false,
   "report_style_numbering": false,
   "user_envs_cfg": false
  },
  "nteract": {
   "version": "0.2.0"
  }
 },
 "nbformat": 4,
 "nbformat_minor": 2
}
